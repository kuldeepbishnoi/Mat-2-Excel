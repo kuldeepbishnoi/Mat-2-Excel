{
 "cells": [
  {
   "cell_type": "markdown",
   "id": "fc0fc007",
   "metadata": {},
   "source": [
    "# Importing the libraries"
   ]
  },
  {
   "cell_type": "markdown",
   "id": "380dc0d4",
   "metadata": {},
   "source": [
    "## Function to install/Uninstall libraries"
   ]
  },
  {
   "cell_type": "code",
   "execution_count": null,
   "id": "a2054628",
   "metadata": {
    "ExecuteTime": {
     "end_time": "2021-04-21T11:52:09.500916Z",
     "start_time": "2021-04-21T11:52:09.488910Z"
    },
    "code_folding": [
     4,
     28
    ]
   },
   "outputs": [],
   "source": [
    "import sys\n",
    "import subprocess\n",
    "assert sys.version_info >= (3,5)\n",
    "\n",
    "def install_packages(pkg_name, \n",
    "                     pkg_version = '', \n",
    "                     medium = 'pip'):\n",
    "    \n",
    "    print(f'Installing {pkg_name} {pkg_version}...',end='')\n",
    "    try:\n",
    "        if len(pkg_version) == 0:\n",
    "            subprocess.check_call([sys.executable,\n",
    "                                   '-m',\n",
    "                                   medium,\n",
    "                                   'install',\n",
    "                                   pkg_name])\n",
    "#             !{sys.executable} -m pip install --yes <pkg_name>\n",
    "#             !conda install --yes --predix {sys.prefix} <pkg_name>\n",
    "        else:\n",
    "            subprocess.check_call([sys.executable,\n",
    "                                   '-m',\n",
    "                                   medium,\n",
    "                                   'install',\n",
    "                                   pkg_name+'=='+pkg_version])\n",
    "        print('Installed successfully.')\n",
    "    except:\n",
    "        print(f'Unable to install! Please install it manually.')\n",
    "    \n",
    "def uninstall_packages(pkg_name, \n",
    "                     medium = 'pip'):\n",
    "    \n",
    "    print(f'Uninstalling {pkg_name}...',end='')\n",
    "    try:\n",
    "        subprocess.check_call([sys.executable,\n",
    "                               '-m',\n",
    "                               medium,\n",
    "                               'uninstall',\n",
    "                               pkg_name,\n",
    "                               '-y'])\n",
    "#             !{sys.executable} -m pip uninstall --yes <pkg_name>\n",
    "#             !conda uninstall --yes --predix {sys.prefix} <pkg_name>\n",
    "        print('Uninstalled successfully.')\n",
    "    except:\n",
    "        print(f'Unable to uninstall! Please uninstall it manually.')"
   ]
  },
  {
   "cell_type": "markdown",
   "id": "674bc876",
   "metadata": {},
   "source": [
    "## Installing openpyxl"
   ]
  },
  {
   "cell_type": "code",
   "execution_count": null,
   "id": "352939b4",
   "metadata": {
    "ExecuteTime": {
     "end_time": "2021-04-21T11:52:10.399285Z",
     "start_time": "2021-04-21T11:52:09.504920Z"
    },
    "code_folding": [
     0,
     5,
     9
    ]
   },
   "outputs": [],
   "source": [
    "try:\n",
    "    pkg_name = 'openpyxl'\n",
    "    pkg_version = ''\n",
    "    import openpyxl\n",
    "    assert openpyxl.__version__ >= pkg_version\n",
    "except ModuleNotFoundError:\n",
    "    install_packages(pkg_name=pkg_name)\n",
    "    import openpyxl\n",
    "    assert openpyxl.__version__ >= pkg_version\n",
    "except:\n",
    "    print(f'Please install {pkg_name} {pkg_version} manually.')"
   ]
  },
  {
   "cell_type": "markdown",
   "id": "93d36c8b",
   "metadata": {
    "ExecuteTime": {
     "end_time": "2021-04-20T19:48:28.891556Z",
     "start_time": "2021-04-20T19:48:28.822511Z"
    }
   },
   "source": [
    "## Installing scipy"
   ]
  },
  {
   "cell_type": "code",
   "execution_count": null,
   "id": "025a8d16",
   "metadata": {
    "ExecuteTime": {
     "end_time": "2021-04-21T11:52:10.451320Z",
     "start_time": "2021-04-21T11:52:10.402288Z"
    },
    "code_folding": [
     0,
     5,
     9
    ]
   },
   "outputs": [],
   "source": [
    "try:\n",
    "    pkg_name = 'scipy'\n",
    "    pkg_version = ''\n",
    "    import scipy\n",
    "    assert scipy.__version__ >= pkg_version\n",
    "except ModuleNotFoundError:\n",
    "    install_packages(pkg_name=pkg_name)\n",
    "    import scipy\n",
    "    assert scipy.__version__ >= pkg_version\n",
    "except:\n",
    "    print(f'Please install {pkg_name} {pkg_version} manually.')"
   ]
  },
  {
   "cell_type": "markdown",
   "id": "2f16c0da",
   "metadata": {},
   "source": [
    "## Installing Pands"
   ]
  },
  {
   "cell_type": "code",
   "execution_count": null,
   "id": "aa7f2496",
   "metadata": {
    "ExecuteTime": {
     "end_time": "2021-04-21T11:52:11.044239Z",
     "start_time": "2021-04-21T11:52:10.454321Z"
    },
    "code_folding": [
     0,
     5,
     9
    ]
   },
   "outputs": [],
   "source": [
    "try:\n",
    "    pkg_name = 'pandas'\n",
    "    pkg_version = ''\n",
    "    import pandas as pd\n",
    "    assert pd.__version__ >= pkg_version\n",
    "except ModuleNotFoundError:\n",
    "    install_packages(pkg_name=pkg_name)\n",
    "    import pandas as pd\n",
    "    assert pd.__version__ >= pkg_version\n",
    "except:\n",
    "    print(f'Please install {pkg_name} {pkg_version} manually.')"
   ]
  },
  {
   "cell_type": "markdown",
   "id": "d72d65f9",
   "metadata": {},
   "source": [
    "## Importing Libraries"
   ]
  },
  {
   "cell_type": "code",
   "execution_count": null,
   "id": "f7f26c32",
   "metadata": {
    "ExecuteTime": {
     "end_time": "2021-04-21T11:52:11.105023Z",
     "start_time": "2021-04-21T11:52:11.046206Z"
    }
   },
   "outputs": [],
   "source": [
    "import os\n",
    "import numpy as np\n",
    "import pandas as pd\n",
    "import scipy.io\n",
    "import openpyxl"
   ]
  },
  {
   "cell_type": "markdown",
   "id": "cde398ff",
   "metadata": {},
   "source": [
    "# #  Class to load mat file using scipy and save to excel/database"
   ]
  },
  {
   "cell_type": "code",
   "execution_count": null,
   "id": "70a5fa9a",
   "metadata": {
    "ExecuteTime": {
     "end_time": "2021-04-21T11:52:11.139104Z",
     "start_time": "2021-04-21T11:52:11.107023Z"
    },
    "code_folding": [
     0,
     2,
     5,
     9,
     21,
     68,
     80,
     90,
     103
    ]
   },
   "outputs": [],
   "source": [
    "class mat_reader():\n",
    "    \n",
    "    def __init__(self, parent_dir):\n",
    "        self.intialization(parent_dir)\n",
    "        \n",
    "    def intialization(self, parent_dir):\n",
    "        self.count = 0\n",
    "        self.parent_dir = parent_dir\n",
    "        \n",
    "    def _save_excel(self,\n",
    "                    array, \n",
    "                    file_path):\n",
    "#         array = np.where(isinstance(array, scipy.io.matlab.mio5_params.mat_struct), self._todict(array), array)\n",
    "        for i in range(array.shape[0]):\n",
    "            if isinstance(array[i], scipy.io.matlab.mio5_params.mat_struct):\n",
    "                array[i] = self._to_np_array(array[i])\n",
    "        pd.DataFrame(array).to_excel(os.path.join(self.parent_dir, file_path), \n",
    "                              sheet_name=os.path.splitext(file_path)[0],\n",
    "                              header=False,\n",
    "                              index=False)\n",
    "        \n",
    "    def convert_mat_to_excel(self,\n",
    "                             d,\n",
    "                             indent=0,\n",
    "                             nkeys=0,\n",
    "                             file_name=''):\n",
    "        if nkeys>0:\n",
    "            d = {k:d[k] for k in list(d.keys())[:nkeys]}\n",
    "            \n",
    "        if isinstance(d,dict):\n",
    "            wb = openpyxl.Workbook()\n",
    "            ws1 = wb.active\n",
    "            ws1.title = os.path.splitext(file_name)[0]\n",
    "            row_no = 0\n",
    "            for key,value in d.items():\n",
    "                print('\\t' * indent + f'Key: {key}')\n",
    "                if isinstance(value, scipy.io.matlab.mio5_params.mat_struct):\n",
    "                    value = self._todict(value)\n",
    "                if isinstance(value, dict):\n",
    "                    row_no += 1\n",
    "                    self.count += 1\n",
    "                    ws1.cell(row=row_no, coloum=1).value = f'{key}'\n",
    "                    ws1.cell(row=row_no, coloum=2).value = f'({len(value)}) dict'\n",
    "                    ws1.cell(row=row_no, coloum=2).hyperlink = f'{key}_{self.count}.xlsx'\n",
    "                    ws1.cell(row=row_no, coloum=2).style = 'Hyperlink'\n",
    "                    self.convert_mat_to_excel(value, indent+1, file_name = f'{key}_{self.count}.xlsx')\n",
    "                elif isinstance(value, np.ndarray):\n",
    "                    row_no += 1\n",
    "                    self.count += 1\n",
    "                    ws1.cell(row=row_no, column=1).value = f'{key}'\n",
    "                    ws1.cell(row=row_no, column=2).value = f'({value.shape}) ndarray'\n",
    "                    ws1.cell(row=row_no, column=2).hyperlink = f'{key}_{self.count}.xlsx'\n",
    "                    ws1.cell(row=row_no, column=2).style = 'Hyperlink'\n",
    "                    if value.dtype.names is not None:\n",
    "                        self.convert_mat_to_excel(value, indent+1, file_name = f'{key}_{self.count}.xlsx')\n",
    "                    else:\n",
    "                        self._save_excel(value, f'{key}_{self.count}.xlsx')\n",
    "                else:\n",
    "                    row_no += 1\n",
    "                    ws1.cell(row=row_no, column=1).value = f'{key}'\n",
    "                    ws1.cell(row=row_no, column=2).value = f'{value}'\n",
    "            wb.save(filename = os.path.join(self.parent_dir, file_name))\n",
    "        elif isinstance(d,np.ndarray) and d.dtype.names is not None:  # Note: and short-circuits by default\n",
    "            for n in d.dtype.names:    # This means it's a struct, it's bit of a kludge test.\n",
    "                print('\\t' * indent + 'Field: ' + str(n))\n",
    "                self.count += 1\n",
    "                self.convert_mat_to_excel(value, indent+1, file_name = f'{key}_{self.count}.xlsx')        \n",
    "                \n",
    "    def loadmat(self, filename):\n",
    "        '''\n",
    "        this function should be called instead of direct spio.loadmat\n",
    "        as it cures the problem of not properly recovering python dictionaries\n",
    "        from mat files. It calls the function check keys to cure all entries\n",
    "        which are still mat-objects\n",
    "\n",
    "        from: `StackOverflow <http://stackoverflow.com/questions/7008608/scipy-io-loadmat-nested-structures-i-e-dictionaries>`_\n",
    "        '''\n",
    "        data = scipy.io.loadmat(filename, struct_as_record=False, squeeze_me=True)\n",
    "        return self._check_keys(data)\n",
    "\n",
    "    def _check_keys(self, dic):\n",
    "        '''\n",
    "        checks if entries in dictionary are mat-objects. If yes\n",
    "        todict is called to change them to nested dictionaries\n",
    "        '''\n",
    "        for key in dic:\n",
    "            if isinstance(dic[key], scipy.io.matlab.mio5_params.mat_struct):\n",
    "                dic[key] = self._todict(dic[key])\n",
    "        return dic    \n",
    "\n",
    "    def _todict(self, matobj):\n",
    "        '''\n",
    "        A recursive function which constructs from matobjects nested dictionaries\n",
    "        '''\n",
    "        dic = {}\n",
    "        for strg in matobj._fieldnames:\n",
    "            elem = matobj.__dict__[strg]\n",
    "            if isinstance(elem, scipy.io.matlab.mio5_params.mat_struct):\n",
    "                dic[strg] = _todict(elem)\n",
    "            else:\n",
    "                dic[strg] = elem\n",
    "        return dic\n",
    "\n",
    "    def _to_np_array(self, matobj):\n",
    "        '''\n",
    "        A recursive function which constructs from matobjects nested arrays\n",
    "        '''\n",
    "        lst = []\n",
    "        for strg in matobj._fieldnames:\n",
    "            elem = matobj.__dict__[strg]\n",
    "            if isinstance(elem, scipy.io.matlab.mio5_params.mat_struct):\n",
    "                lst.append(_to_np_array(elem))\n",
    "            else:\n",
    "                lst.append(elem)\n",
    "        return np.array(lst)                  "
   ]
  },
  {
   "cell_type": "markdown",
   "id": "b14ed6f9",
   "metadata": {},
   "source": [
    "## Loading and converting mat file into excel"
   ]
  },
  {
   "cell_type": "code",
   "execution_count": null,
   "id": "824c45ae",
   "metadata": {
    "ExecuteTime": {
     "end_time": "2021-04-21T11:52:12.762251Z",
     "start_time": "2021-04-21T11:52:11.141044Z"
    },
    "code_folding": [
     0
    ]
   },
   "outputs": [],
   "source": [
    "def convert():\n",
    "    mat_file_path = r'sample.mat'\n",
    "    parent_dir = os.path.splitext(mat_file_path)[0]\n",
    "    os.makedirs(parent_dir, exist_ok = True)\n",
    "    m_reader  = mat_reader(parent_dir)\n",
    "    m_reader.convert_mat_to_excel(m_reader.loadmat(mat_file_path), file_name = f'{mat_file_path}.xlsx')\n",
    "convert()"
   ]
  }
 ],
 "metadata": {
  "kernelspec": {
   "display_name": "Python 3",
   "language": "python",
   "name": "python3"
  },
  "language_info": {
   "codemirror_mode": {
    "name": "ipython",
    "version": 3
   },
   "file_extension": ".py",
   "mimetype": "text/x-python",
   "name": "python",
   "nbconvert_exporter": "python",
   "pygments_lexer": "ipython3",
   "version": "3.8.8"
  }
 },
 "nbformat": 4,
 "nbformat_minor": 5
}
