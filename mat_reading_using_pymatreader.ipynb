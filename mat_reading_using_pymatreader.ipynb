{
 "cells": [
  {
   "cell_type": "markdown",
   "id": "2c7c388e",
   "metadata": {},
   "source": [
    "# Importing the libraries"
   ]
  },
  {
   "cell_type": "markdown",
   "id": "c87db060",
   "metadata": {},
   "source": [
    "## Function to install/Uninstall libraries"
   ]
  },
  {
   "cell_type": "code",
   "execution_count": null,
   "id": "b65fd1ae",
   "metadata": {
    "ExecuteTime": {
     "end_time": "2021-04-21T11:51:52.534181Z",
     "start_time": "2021-04-21T11:51:52.520171Z"
    },
    "code_folding": [
     4,
     28
    ]
   },
   "outputs": [],
   "source": [
    "import sys\n",
    "import subprocess\n",
    "assert sys.version_info >= (3,5)\n",
    "\n",
    "def install_packages(pkg_name, \n",
    "                     pkg_version = '', \n",
    "                     medium = 'pip'):\n",
    "    \n",
    "    print(f'Installing {pkg_name} {pkg_version}...',end='')\n",
    "    try:\n",
    "        if len(pkg_version) == 0:\n",
    "            subprocess.check_call([sys.executable,\n",
    "                                   '-m',\n",
    "                                   medium,\n",
    "                                   'install',\n",
    "                                   pkg_name])\n",
    "#             !{sys.executable} -m pip install --yes <pkg_name>\n",
    "#             !conda install --yes --predix {sys.prefix} <pkg_name>\n",
    "        else:\n",
    "            subprocess.check_call([sys.executable,\n",
    "                                   '-m',\n",
    "                                   medium,\n",
    "                                   'install',\n",
    "                                   pkg_name+'=='+pkg_version])\n",
    "        print('Installed successfully.')\n",
    "    except:\n",
    "        print(f'Unable to install! Please install it manually.')\n",
    "    \n",
    "def uninstall_packages(pkg_name, \n",
    "                     medium = 'pip'):\n",
    "    \n",
    "    print(f'Uninstalling {pkg_name}...',end='')\n",
    "    try:\n",
    "        subprocess.check_call([sys.executable,\n",
    "                               '-m',\n",
    "                               medium,\n",
    "                               'uninstall',\n",
    "                               pkg_name,\n",
    "                               '-y'])\n",
    "#             !{sys.executable} -m pip uninstall --yes <pkg_name>\n",
    "#             !conda uninstall --yes --predix {sys.prefix} <pkg_name>\n",
    "        print('Uninstalled successfully.')\n",
    "    except:\n",
    "        print(f'Unable to uninstall! Please uninstall it manually.')"
   ]
  },
  {
   "cell_type": "markdown",
   "id": "6ea9d0b1",
   "metadata": {},
   "source": [
    "## Installing openpyxl"
   ]
  },
  {
   "cell_type": "code",
   "execution_count": null,
   "id": "3ed028e3",
   "metadata": {
    "ExecuteTime": {
     "end_time": "2021-04-21T11:51:53.248024Z",
     "start_time": "2021-04-21T11:51:52.538184Z"
    },
    "code_folding": [
     0,
     5,
     9
    ]
   },
   "outputs": [],
   "source": [
    "try:\n",
    "    pkg_name = 'openpyxl'\n",
    "    pkg_version = ''\n",
    "    import openpyxl\n",
    "    assert openpyxl.__version__ >= pkg_version\n",
    "except ModuleNotFoundError:\n",
    "    install_packages(pkg_name=pkg_name)\n",
    "    import openpyxl\n",
    "    assert openpyxl.__version__ >= pkg_version\n",
    "except:\n",
    "    print(f'Please install {pkg_name} {pkg_version} manually.')"
   ]
  },
  {
   "cell_type": "markdown",
   "id": "361c9a85",
   "metadata": {},
   "source": [
    "## Installing pymatreader"
   ]
  },
  {
   "cell_type": "code",
   "execution_count": null,
   "id": "78d16f9f",
   "metadata": {
    "ExecuteTime": {
     "end_time": "2021-04-21T11:51:53.341085Z",
     "start_time": "2021-04-21T11:51:53.251024Z"
    },
    "code_folding": [
     0,
     3,
     6
    ]
   },
   "outputs": [],
   "source": [
    "try:\n",
    "    pkg_name = 'pymatreader'\n",
    "    import pymatreader\n",
    "except ModuleNotFoundError:\n",
    "    install_packages(pkg_name=pkg_name)\n",
    "    import pymatreader\n",
    "except:\n",
    "    print(f'Please install {pkg_name} {pkg_version} manually.')"
   ]
  },
  {
   "cell_type": "markdown",
   "id": "2f16c0da",
   "metadata": {},
   "source": [
    "## Installing Pands"
   ]
  },
  {
   "cell_type": "code",
   "execution_count": null,
   "id": "aa7f2496",
   "metadata": {
    "ExecuteTime": {
     "end_time": "2021-04-21T11:51:53.888771Z",
     "start_time": "2021-04-21T11:51:53.343084Z"
    },
    "code_folding": [
     0,
     5,
     9
    ]
   },
   "outputs": [],
   "source": [
    "try:\n",
    "    pkg_name = 'pandas'\n",
    "    pkg_version = ''\n",
    "    import pandas as pd\n",
    "    assert pd.__version__ >= pkg_version\n",
    "except ModuleNotFoundError:\n",
    "    install_packages(pkg_name=pkg_name)\n",
    "    import pandas as pd\n",
    "    assert pd.__version__ >= pkg_version\n",
    "except:\n",
    "    print(f'Please install {pkg_name} {pkg_version} manually.')"
   ]
  },
  {
   "cell_type": "markdown",
   "id": "d72d65f9",
   "metadata": {},
   "source": [
    "## Importing Libraries"
   ]
  },
  {
   "cell_type": "code",
   "execution_count": null,
   "id": "f7f26c32",
   "metadata": {
    "ExecuteTime": {
     "end_time": "2021-04-21T11:51:53.904397Z",
     "start_time": "2021-04-21T11:51:53.888771Z"
    }
   },
   "outputs": [],
   "source": [
    "import os\n",
    "import numpy as np\n",
    "import pandas as pd\n",
    "import pymatreader\n",
    "import openpyxl"
   ]
  },
  {
   "cell_type": "markdown",
   "id": "2c455ff8",
   "metadata": {},
   "source": [
    "#  Class to load mat file using pymatreader and save to excel/database"
   ]
  },
  {
   "cell_type": "code",
   "execution_count": null,
   "id": "c9cd4d8a",
   "metadata": {
    "ExecuteTime": {
     "end_time": "2021-04-21T11:51:54.085620Z",
     "start_time": "2021-04-21T11:51:53.904397Z"
    },
    "code_folding": [
     2,
     5,
     9,
     17,
     80
    ]
   },
   "outputs": [],
   "source": [
    "class mat_reader():\n",
    "    \n",
    "    def __init__(self, parent_dir):\n",
    "        self.intialization(parent_dir)\n",
    "        \n",
    "    def intialization(self, parent_dir):\n",
    "        self.count = 0\n",
    "        self.parent_dir = parent_dir\n",
    "        \n",
    "    def _save_excel(self,\n",
    "                    array, \n",
    "                    file_path):\n",
    "        pd.DataFrame(array).to_excel(os.path.join(self.parent_dir, file_path), \n",
    "                              sheet_name=os.path.splitext(file_path)[0],\n",
    "                              header=False,\n",
    "                              index=False)\n",
    "        \n",
    "    def convert_mat_to_excel(self,\n",
    "                             d,\n",
    "                             indent=0,\n",
    "                             nkeys=0,\n",
    "                             file_name=''):\n",
    "        if nkeys>0:\n",
    "            d = {k:d[k] for k in list(d.keys())[:nkeys]}\n",
    "            \n",
    "        if isinstance(d,dict):\n",
    "            wb = openpyxl.Workbook()\n",
    "            ws1 = wb.active\n",
    "            ws1.title = os.path.splitext(file_name)[0]\n",
    "            row_no = 0\n",
    "            for key,value in d.items():\n",
    "                print('\\t' * indent + f'Key: {key}')\n",
    "                row_no += 1\n",
    "                ws1.cell(row=row_no, column=1).value = f'{key}'\n",
    "                if isinstance(value, dict):\n",
    "                    self.count += 1\n",
    "                    ws1.cell(row=row_no, column=2).hyperlink = f'{key}_{self.count}.xlsx'\n",
    "                    ws1.cell(row=row_no, column=2).style = 'Hyperlink'\n",
    "                    if isinstance(value[list(value.keys())[0]], list):\n",
    "                        ws1.cell(row=row_no, column=2).value = f'({len(value)}x{len(value[list(value.keys())[0]])}) list'\n",
    "#                         df = pd.DataFrame({ key:pd.Series(value) for key, value in value.items() })\n",
    "                        df = pd.DataFrame(value, columns = list(value.keys()))\n",
    "                        df.to_excel(excel_writer=os.path.join(self.parent_dir,f'{key}_{self.count}.xlsx'),\n",
    "                                    sheet_name=f'{key}_{self.count}',\n",
    "                                    header=True,\n",
    "                                    index=False)\n",
    "                        break\n",
    "                    else:\n",
    "                        ws1.cell(row=row_no, column=2).value = f'({len(value)}) dict'\n",
    "                        self.convert_mat_to_excel(value, indent+1, file_name = f'{key}_{self.count}.xlsx')\n",
    "                \n",
    "                elif isinstance(value, np.ndarray):\n",
    "                    self.count += 1\n",
    "                    ws1.cell(row=row_no, column=2).value = f'({value.shape}) ndarray'\n",
    "                    ws1.cell(row=row_no, column=2).hyperlink = f'{key}_{self.count}.xlsx'\n",
    "                    ws1.cell(row=row_no, column=2).style = 'Hyperlink'\n",
    "                    if value.dtype.names is not None:\n",
    "                        self.convert_mat_to_excel(value, indent+1, file_name = f'{key}_{self.count}.xlsx')\n",
    "                    else:\n",
    "                        self._save_excel(value, f'{key}_{self.count}.xlsx')\n",
    "                elif isinstance(value, list):\n",
    "                    self.count += 1\n",
    "                    ws1.cell(row=row_no, column=2).value = f'({len(value)}) list'\n",
    "                    ws1.cell(row=row_no, column=2).hyperlink = f'{key}_{self.count}.xlsx'\n",
    "                    ws1.cell(row=row_no, column=2).style = 'Hyperlink'\n",
    "#                         df = pd.DataFrame({ key:pd.Series(value) for key, value in value.items() })\n",
    "                    df = pd.DataFrame(value)\n",
    "                    df.to_excel(excel_writer=os.path.join(self.parent_dir,f'{key}_{self.count}.xlsx'),\n",
    "                                    sheet_name=f'{key}_{self.count}',\n",
    "                                    header=True,\n",
    "                                    index=False)\n",
    "                else:\n",
    "                    ws1.cell(row=row_no, column=2).value = f'{value}'\n",
    "            wb.save(filename = os.path.join(self.parent_dir, file_name))\n",
    "        elif isinstance(d,np.ndarray) and d.dtype.names is not None:  # Note: and short-circuits by default\n",
    "            for n in d.dtype.names:    # This means it's a struct, it's bit of a kludge test.\n",
    "                print('\\t' * indent + 'Field: ' + str(n))\n",
    "                self.count += 1\n",
    "                self.convert_mat_to_excel(value, indent+1, file_name = f'{key}_{self.count}.xlsx')\n",
    "       \n",
    "    def loadmat(self, filename):\n",
    "        return pymatreader.read_mat(filename)\n",
    "                    "
   ]
  },
  {
   "cell_type": "markdown",
   "id": "4ac42ef3",
   "metadata": {},
   "source": [
    "## Loading and converting mat file into excel"
   ]
  },
  {
   "cell_type": "code",
   "execution_count": null,
   "id": "8c6dc760",
   "metadata": {
    "ExecuteTime": {
     "end_time": "2021-04-21T11:51:56.504851Z",
     "start_time": "2021-04-21T11:51:54.089621Z"
    },
    "code_folding": [
     0
    ]
   },
   "outputs": [],
   "source": [
    "def convert():\n",
    "    mat_file_path = r'sample.mat'\n",
    "    parent_dir = os.path.splitext(mat_file_path)[0]\n",
    "    os.makedirs(parent_dir, exist_ok = True)\n",
    "    m_reader  = mat_reader(parent_dir)\n",
    "    m_reader.convert_mat_to_excel(m_reader.loadmat(mat_file_path), file_name = f'{mat_file_path}.xlsx')\n",
    "convert()"
   ]
  }
 ],
 "metadata": {
  "kernelspec": {
   "display_name": "Python 3",
   "language": "python",
   "name": "python3"
  },
  "language_info": {
   "codemirror_mode": {
    "name": "ipython",
    "version": 3
   },
   "file_extension": ".py",
   "mimetype": "text/x-python",
   "name": "python",
   "nbconvert_exporter": "python",
   "pygments_lexer": "ipython3",
   "version": "3.8.8"
  }
 },
 "nbformat": 4,
 "nbformat_minor": 5
}
